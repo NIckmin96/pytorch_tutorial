{
  "nbformat": 4,
  "nbformat_minor": 0,
  "metadata": {
    "colab": {
      "name": "pytorch_day1.ipynb",
      "provenance": [],
      "collapsed_sections": []
    },
    "kernelspec": {
      "name": "python3",
      "display_name": "Python 3"
    },
    "language_info": {
      "name": "python"
    }
  },
  "cells": [
    {
      "cell_type": "markdown",
      "source": [
        "# 파이토치 기본 패키지 구성\n",
        "1. torch\n",
        "  - 메인 네임스페이스. 텐서등의 다양한 수학 함수가 포함. Numpy와 유사\n",
        "2. torch.autograd\n",
        "  - 자동 미분을 위한 함수들 포함. 자동 미분의 on/off를 제어하는 콘텍스트 매니저(enable_grad/no_grad)나 자체 미분 함수를 정의할 때 사용하는 'Function'등이 포함.\n",
        "3. torch.nn\n",
        "  - 신경망을 구축하기 위한 다양한 데이터 구조나 레이어가 정의되어 있음.\n",
        "4. torch.optim\n",
        "  - 확률적 경사 하강법(Stochastic Gradient Descent, SGD)를 중심으로 한 파라미터 최적화 알고리즘이 구현되어 있다.\n",
        "5. torch.utils.data\n",
        "  - SGD연산을 반복할 때 사용하는 미니 배치용 유틸리티 함수가 포함되어 있음.\n",
        "6. torch.onnx\n",
        "  - ONNX(Open Neural Network Exchange)의 포맷으로 모델을 export할 때 사용. ONNX는 서로 다른 딥러닝 프레임워크 간에 모델을 공유할 때 사용."
      ],
      "metadata": {
        "id": "hjcycMCvFI2J"
      }
    },
    {
      "cell_type": "markdown",
      "source": [
        "# 텐서 조작하기"
      ],
      "metadata": {
        "id": "D6QaH8i6GoOh"
      }
    },
    {
      "cell_type": "code",
      "execution_count": 32,
      "metadata": {
        "id": "RSgY6mDmE6ZG"
      },
      "outputs": [],
      "source": [
        "import torch\n",
        "import numpy as np"
      ]
    },
    {
      "cell_type": "code",
      "source": [
        "t = torch.FloatTensor([0., 1., 2., 3., 4., 5., 6.])\n",
        "print(t)"
      ],
      "metadata": {
        "colab": {
          "base_uri": "https://localhost:8080/"
        },
        "id": "AzN9Pf0gHfnA",
        "outputId": "fdee22f1-34f0-4b84-9d77-ac659a5ebfdd"
      },
      "execution_count": 33,
      "outputs": [
        {
          "output_type": "stream",
          "name": "stdout",
          "text": [
            "tensor([0., 1., 2., 3., 4., 5., 6.])\n"
          ]
        }
      ]
    },
    {
      "cell_type": "code",
      "source": [
        "print(t.dim())\n",
        "print(t.size())\n",
        "print(t.shape)"
      ],
      "metadata": {
        "colab": {
          "base_uri": "https://localhost:8080/"
        },
        "id": "dokYyrfnHmPH",
        "outputId": "feb2c868-fa70-4106-d26b-c1b4d64ce385"
      },
      "execution_count": 34,
      "outputs": [
        {
          "output_type": "stream",
          "name": "stdout",
          "text": [
            "1\n",
            "torch.Size([7])\n",
            "torch.Size([7])\n"
          ]
        }
      ]
    },
    {
      "cell_type": "code",
      "source": [
        "print(t[0])"
      ],
      "metadata": {
        "colab": {
          "base_uri": "https://localhost:8080/"
        },
        "id": "dUiQwtPaIABU",
        "outputId": "c681e018-2283-4cde-a531-72593e16bed1"
      },
      "execution_count": 35,
      "outputs": [
        {
          "output_type": "stream",
          "name": "stdout",
          "text": [
            "tensor(0.)\n"
          ]
        }
      ]
    },
    {
      "cell_type": "markdown",
      "source": [
        "## 행렬 곱셈과 곱셈의 차이(Matrix Multiplication vs Multiplication)"
      ],
      "metadata": {
        "id": "ppxDNrZuIT62"
      }
    },
    {
      "cell_type": "code",
      "source": [
        "#Matrix Multiplication\n",
        "\n",
        "m1 = torch.FloatTensor([[1, 2], [3, 4]])\n",
        "m2 = torch.FloatTensor([[1], [2]])\n",
        "print('Shape of Matrix 1: ', m1.shape) # 2 x 2\n",
        "print('Shape of Matrix 2: ', m2.shape) # 2 x 1\n",
        "print(m1.matmul(m2)) # 2 x 1"
      ],
      "metadata": {
        "colab": {
          "base_uri": "https://localhost:8080/"
        },
        "id": "naOUuYMzIIim",
        "outputId": "11f021a5-08fc-4b1e-b012-eb4b03814254"
      },
      "execution_count": 36,
      "outputs": [
        {
          "output_type": "stream",
          "name": "stdout",
          "text": [
            "Shape of Matrix 1:  torch.Size([2, 2])\n",
            "Shape of Matrix 2:  torch.Size([2, 1])\n",
            "tensor([[ 5.],\n",
            "        [11.]])\n"
          ]
        }
      ]
    },
    {
      "cell_type": "code",
      "source": [
        "#Element-wise Multiplication (BroadCasting)\n",
        "\n",
        "m1 = torch.FloatTensor([[1, 2], [3, 4]])\n",
        "m2 = torch.FloatTensor([[1], [2]])\n",
        "print('Shape of Matrix 1: ', m1.shape) # 2 x 2\n",
        "print('Shape of Matrix 2: ', m2.shape) # 2 x 1\n",
        "print(m1 * m2) # 2 x 2\n",
        "print(m1.mul(m2))"
      ],
      "metadata": {
        "colab": {
          "base_uri": "https://localhost:8080/"
        },
        "id": "1-GXtSoWIbgL",
        "outputId": "f3fb281e-021b-41ed-c944-ebcbfb7b4d5a"
      },
      "execution_count": 37,
      "outputs": [
        {
          "output_type": "stream",
          "name": "stdout",
          "text": [
            "Shape of Matrix 1:  torch.Size([2, 2])\n",
            "Shape of Matrix 2:  torch.Size([2, 1])\n",
            "tensor([[1., 2.],\n",
            "        [6., 8.]])\n",
            "tensor([[1., 2.],\n",
            "        [6., 8.]])\n"
          ]
        }
      ]
    },
    {
      "cell_type": "markdown",
      "source": [
        "## 각종 연산"
      ],
      "metadata": {
        "id": "2T7yMwmxJJMC"
      }
    },
    {
      "cell_type": "code",
      "source": [
        "# mean\n",
        "\n",
        "t = torch.FloatTensor([1, 2])\n",
        "print(t.mean())"
      ],
      "metadata": {
        "colab": {
          "base_uri": "https://localhost:8080/"
        },
        "id": "M_CKnVFcIogh",
        "outputId": "54e1abe9-bbf6-4a96-815a-45ae12d85084"
      },
      "execution_count": 38,
      "outputs": [
        {
          "output_type": "stream",
          "name": "stdout",
          "text": [
            "tensor(1.5000)\n"
          ]
        }
      ]
    },
    {
      "cell_type": "code",
      "source": [
        "# dim = 0 or 1\n",
        "\n",
        "t = torch.FloatTensor([[1, 2], [3, 4]])\n",
        "print(t.mean())\n",
        "print(t.mean(dim=0)) # dim = 0 : 첫번째 차원(row)을 제거하고 mean 수행\n",
        "print(t.mean(dim=1)) # dim = 1 : 두번째 차원(column)을 제거하고 mean 수행\n",
        "print(t.mean(dim=-1)) # dim = -1 : 마지막 차원(column)을 제거하고 mean 수행"
      ],
      "metadata": {
        "colab": {
          "base_uri": "https://localhost:8080/"
        },
        "id": "L7yeNBgGJPG_",
        "outputId": "63875746-295a-4e21-a217-16f2f4724d65"
      },
      "execution_count": 39,
      "outputs": [
        {
          "output_type": "stream",
          "name": "stdout",
          "text": [
            "tensor(2.5000)\n",
            "tensor([2., 3.])\n",
            "tensor([1.5000, 3.5000])\n",
            "tensor([1.5000, 3.5000])\n"
          ]
        }
      ]
    },
    {
      "cell_type": "code",
      "source": [
        "# max & argmax\n",
        "\n",
        "t = torch.FloatTensor([[1, 2], [3, 4]])\n",
        "print(t)\n",
        "\n",
        "print(t.max()) # Returns one value: max\n",
        "print('\\n')\n",
        "print(t.max(dim=0)) # Returns two values: max and argmax"
      ],
      "metadata": {
        "colab": {
          "base_uri": "https://localhost:8080/"
        },
        "id": "-fOsC3TVKqpZ",
        "outputId": "8f2855ea-f23f-4237-c35b-79e2a3f7ac1c"
      },
      "execution_count": 40,
      "outputs": [
        {
          "output_type": "stream",
          "name": "stdout",
          "text": [
            "tensor([[1., 2.],\n",
            "        [3., 4.]])\n",
            "tensor(4.)\n",
            "\n",
            "\n",
            "torch.return_types.max(\n",
            "values=tensor([3., 4.]),\n",
            "indices=tensor([1, 1]))\n"
          ]
        }
      ]
    },
    {
      "cell_type": "markdown",
      "source": [
        "## View\n",
        "- 원소의 수를 유지하면서 텐서의 크기 변경. 매우 중요!\n",
        "- np.reshape와 유사"
      ],
      "metadata": {
        "id": "0Cpuv-t_Lb5I"
      }
    },
    {
      "cell_type": "code",
      "source": [
        "t = np.array([[[0, 1, 2],\n",
        "               [3, 4, 5]],\n",
        "              [[6, 7, 8],\n",
        "               [9, 10, 11]]])\n",
        "ft = torch.FloatTensor(t)\n",
        "\n",
        "print(ft.shape)"
      ],
      "metadata": {
        "colab": {
          "base_uri": "https://localhost:8080/"
        },
        "id": "jZtKK57jLEXo",
        "outputId": "445de8de-3722-4006-b864-7c04ed16a98f"
      },
      "execution_count": 41,
      "outputs": [
        {
          "output_type": "stream",
          "name": "stdout",
          "text": [
            "torch.Size([2, 2, 3])\n"
          ]
        }
      ]
    },
    {
      "cell_type": "code",
      "source": [
        "print(ft.view([-1, 3])) # ft라는 텐서를 (?, 3)의 크기로 변경\n",
        "print(ft.view([-1, 3]).shape)"
      ],
      "metadata": {
        "colab": {
          "base_uri": "https://localhost:8080/"
        },
        "id": "2Whwz49JLoZv",
        "outputId": "aa618ad6-7602-45e0-8dd3-9ed59043d311"
      },
      "execution_count": 42,
      "outputs": [
        {
          "output_type": "stream",
          "name": "stdout",
          "text": [
            "tensor([[ 0.,  1.,  2.],\n",
            "        [ 3.,  4.,  5.],\n",
            "        [ 6.,  7.,  8.],\n",
            "        [ 9., 10., 11.]])\n",
            "torch.Size([4, 3])\n"
          ]
        }
      ]
    },
    {
      "cell_type": "code",
      "source": [
        "print(ft.view([-1, 1, 3]))\n",
        "print(ft.view([-1, 1, 3]).shape)"
      ],
      "metadata": {
        "colab": {
          "base_uri": "https://localhost:8080/"
        },
        "id": "EbdNoWK2LvJS",
        "outputId": "5b134459-432c-4f52-e7d6-2213089e318a"
      },
      "execution_count": 43,
      "outputs": [
        {
          "output_type": "stream",
          "name": "stdout",
          "text": [
            "tensor([[[ 0.,  1.,  2.]],\n",
            "\n",
            "        [[ 3.,  4.,  5.]],\n",
            "\n",
            "        [[ 6.,  7.,  8.]],\n",
            "\n",
            "        [[ 9., 10., 11.]]])\n",
            "torch.Size([4, 1, 3])\n"
          ]
        }
      ]
    },
    {
      "cell_type": "markdown",
      "source": [
        "## Squeeze\n",
        "- 1인 차원을 제거"
      ],
      "metadata": {
        "id": "rHpp_t9-MHfr"
      }
    },
    {
      "cell_type": "code",
      "source": [
        "ft = torch.FloatTensor([[0], [1], [2]])\n",
        "print(ft)\n",
        "print(ft.shape)\n"
      ],
      "metadata": {
        "colab": {
          "base_uri": "https://localhost:8080/"
        },
        "id": "rZr6pkXBMDGh",
        "outputId": "e649e4ac-2061-460f-9946-48dedd8646ff"
      },
      "execution_count": 44,
      "outputs": [
        {
          "output_type": "stream",
          "name": "stdout",
          "text": [
            "tensor([[0.],\n",
            "        [1.],\n",
            "        [2.]])\n",
            "torch.Size([3, 1])\n"
          ]
        }
      ]
    },
    {
      "cell_type": "code",
      "source": [
        "print(ft.squeeze())\n",
        "print(ft.squeeze().shape)"
      ],
      "metadata": {
        "colab": {
          "base_uri": "https://localhost:8080/"
        },
        "id": "8bB-ySVLMLEt",
        "outputId": "54d32d4a-d9e0-4c36-8c4d-de0bba772d8b"
      },
      "execution_count": 45,
      "outputs": [
        {
          "output_type": "stream",
          "name": "stdout",
          "text": [
            "tensor([0., 1., 2.])\n",
            "torch.Size([3])\n"
          ]
        }
      ]
    },
    {
      "cell_type": "markdown",
      "source": [
        "## Unsqueeze\n",
        "- 특정 위치에 차원을 1추가"
      ],
      "metadata": {
        "id": "ynqTAxQyMPMj"
      }
    },
    {
      "cell_type": "code",
      "source": [
        "ft = torch.Tensor([0, 1, 2])\n",
        "print(ft.shape)"
      ],
      "metadata": {
        "colab": {
          "base_uri": "https://localhost:8080/"
        },
        "id": "g3gWz7w9MMxO",
        "outputId": "5b0a702d-7ce1-411b-dd29-e46cc8b81f8d"
      },
      "execution_count": 46,
      "outputs": [
        {
          "output_type": "stream",
          "name": "stdout",
          "text": [
            "torch.Size([3])\n"
          ]
        }
      ]
    },
    {
      "cell_type": "code",
      "source": [
        "print(ft.unsqueeze(0)) # 인덱스가 0부터 시작하므로 0은 첫번째 차원을 의미한다.\n",
        "print(ft.unsqueeze(0).shape)\n",
        "print('\\n')\n",
        "print(ft.unsqueeze(-1)) # 인덱스가 0부터 시작하므로 0은 첫번째 차원을 의미한다.\n",
        "print(ft.unsqueeze(-1).shape)\n"
      ],
      "metadata": {
        "colab": {
          "base_uri": "https://localhost:8080/"
        },
        "id": "PlLF5xKJMUVH",
        "outputId": "45928661-f607-46fc-db10-75d4d36ac8d8"
      },
      "execution_count": 47,
      "outputs": [
        {
          "output_type": "stream",
          "name": "stdout",
          "text": [
            "tensor([[0., 1., 2.]])\n",
            "torch.Size([1, 3])\n",
            "\n",
            "\n",
            "tensor([[0.],\n",
            "        [1.],\n",
            "        [2.]])\n",
            "torch.Size([3, 1])\n"
          ]
        }
      ]
    },
    {
      "cell_type": "markdown",
      "source": [
        "## Type Casting\n",
        "- tensor의 자료형을 반환하는 것"
      ],
      "metadata": {
        "id": "dvazKvI5MkwY"
      }
    },
    {
      "cell_type": "code",
      "source": [
        "lt = torch.LongTensor([1, 2, 3, 4]) # long type tensor\n",
        "print(lt)"
      ],
      "metadata": {
        "colab": {
          "base_uri": "https://localhost:8080/"
        },
        "id": "vjWdhVPvMVjb",
        "outputId": "2bb979e8-9511-4456-cc1f-ce34c32cfb42"
      },
      "execution_count": 48,
      "outputs": [
        {
          "output_type": "stream",
          "name": "stdout",
          "text": [
            "tensor([1, 2, 3, 4])\n"
          ]
        }
      ]
    },
    {
      "cell_type": "code",
      "source": [
        "print(lt.float()) # long to float type tensor"
      ],
      "metadata": {
        "colab": {
          "base_uri": "https://localhost:8080/"
        },
        "id": "gcSqinFzMzPQ",
        "outputId": "2c6b5cf8-1f2e-4c10-90bf-ab38e0c6c4b9"
      },
      "execution_count": 49,
      "outputs": [
        {
          "output_type": "stream",
          "name": "stdout",
          "text": [
            "tensor([1., 2., 3., 4.])\n"
          ]
        }
      ]
    },
    {
      "cell_type": "code",
      "source": [
        "bt = torch.ByteTensor([True, False, False, True]) # byte type tensor\n",
        "print(bt)"
      ],
      "metadata": {
        "colab": {
          "base_uri": "https://localhost:8080/"
        },
        "id": "8gJBo9vuM2X7",
        "outputId": "5f0b299c-4a8b-482f-eff5-68406a575752"
      },
      "execution_count": 50,
      "outputs": [
        {
          "output_type": "stream",
          "name": "stdout",
          "text": [
            "tensor([1, 0, 0, 1], dtype=torch.uint8)\n"
          ]
        }
      ]
    },
    {
      "cell_type": "code",
      "source": [
        "print(bt.long())\n",
        "print(bt.float())"
      ],
      "metadata": {
        "colab": {
          "base_uri": "https://localhost:8080/"
        },
        "id": "srXqHMbGM5-T",
        "outputId": "a4b2231e-895a-48e3-b812-dea33d905092"
      },
      "execution_count": 51,
      "outputs": [
        {
          "output_type": "stream",
          "name": "stdout",
          "text": [
            "tensor([1, 0, 0, 1])\n",
            "tensor([1., 0., 0., 1.])\n"
          ]
        }
      ]
    },
    {
      "cell_type": "markdown",
      "source": [
        "## concatenate\n",
        "- 연결하기"
      ],
      "metadata": {
        "id": "vYmT6ITqM-10"
      }
    },
    {
      "cell_type": "code",
      "source": [
        "x = torch.FloatTensor([[1, 2], [3, 4]])\n",
        "y = torch.FloatTensor([[5, 6], [7, 8]])"
      ],
      "metadata": {
        "id": "1DynZWsRM80N"
      },
      "execution_count": 52,
      "outputs": []
    },
    {
      "cell_type": "code",
      "source": [
        "print(torch.cat([x, y], dim=0)) # dim = 0 : 첫번째 차원을 늘리기\n",
        "print(torch.cat([x, y], dim=1)) # dim = 1 : 두번째 차원을 늘리기"
      ],
      "metadata": {
        "colab": {
          "base_uri": "https://localhost:8080/"
        },
        "id": "MIOobl6SNC5i",
        "outputId": "a15c1004-a4e5-47d4-ad74-8fb598a5e38c"
      },
      "execution_count": 54,
      "outputs": [
        {
          "output_type": "stream",
          "name": "stdout",
          "text": [
            "tensor([[1., 2.],\n",
            "        [3., 4.],\n",
            "        [5., 6.],\n",
            "        [7., 8.]])\n",
            "tensor([[1., 2., 5., 6.],\n",
            "        [3., 4., 7., 8.]])\n"
          ]
        }
      ]
    },
    {
      "cell_type": "markdown",
      "source": [
        "## stacking\n",
        "- stacking은 concat보다 많은 연산을 포함"
      ],
      "metadata": {
        "id": "5QACIPVKPTOu"
      }
    },
    {
      "cell_type": "code",
      "source": [
        "x = torch.FloatTensor([1, 4])\n",
        "y = torch.FloatTensor([2, 5])\n",
        "z = torch.FloatTensor([3, 6])"
      ],
      "metadata": {
        "id": "qunGwxEfPQG3"
      },
      "execution_count": 55,
      "outputs": []
    },
    {
      "cell_type": "code",
      "source": [
        "print(torch.stack([x, y, z]))"
      ],
      "metadata": {
        "colab": {
          "base_uri": "https://localhost:8080/"
        },
        "id": "LznnIdmoPa2J",
        "outputId": "5caf1446-6269-4871-c032-26957b450911"
      },
      "execution_count": 56,
      "outputs": [
        {
          "output_type": "stream",
          "name": "stdout",
          "text": [
            "tensor([[1., 4.],\n",
            "        [2., 5.],\n",
            "        [3., 6.]])\n"
          ]
        }
      ]
    },
    {
      "cell_type": "markdown",
      "source": [
        "# Linear Regression\n",
        "- Goal : loss/cost function을 최소화하여 데이터를 가장 잘 설명할 수 있는 linear equation을 찾아내는 것\n",
        "  - Optimizing : SGD방식을 이용해서 Weight를 update. W = W - lr*W"
      ],
      "metadata": {
        "id": "gM8z5qKoQDT0"
      }
    },
    {
      "cell_type": "code",
      "source": [
        "import torch\n",
        "import torch.nn as nn\n",
        "import torch.nn.functional as F\n",
        "import torch.optim as optim"
      ],
      "metadata": {
        "id": "vqWeekHqQLqB"
      },
      "execution_count": 65,
      "outputs": []
    },
    {
      "cell_type": "code",
      "source": [
        "# 현재 실습하고 있는 파이썬 코드를 재실행해도 다음에도 같은 결과가 나오도록 랜덤 시드(random seed)를 줍니다.\n",
        "torch.manual_seed(1)"
      ],
      "metadata": {
        "colab": {
          "base_uri": "https://localhost:8080/"
        },
        "id": "rIc0-njcR1Fc",
        "outputId": "6d1549ac-3f6d-4d45-a5f7-3cad7c5d754b"
      },
      "execution_count": 66,
      "outputs": [
        {
          "output_type": "execute_result",
          "data": {
            "text/plain": [
              "<torch._C.Generator at 0x7faf749bd170>"
            ]
          },
          "metadata": {},
          "execution_count": 66
        }
      ]
    },
    {
      "cell_type": "code",
      "source": [
        "x_train = torch.FloatTensor([[1], [2], [3]])\n",
        "y_train = torch.FloatTensor([[2], [4], [6]])"
      ],
      "metadata": {
        "id": "4ox4mRjrSBXQ"
      },
      "execution_count": 70,
      "outputs": []
    },
    {
      "cell_type": "code",
      "source": [
        "# 가중치 W를 0으로 초기화하고 학습을 통해 값이 변경되는 변수임을 명시함.\n",
        "W = torch.zeros(1, requires_grad=True) \n",
        "# 가중치 W를 출력\n",
        "print(W)"
      ],
      "metadata": {
        "colab": {
          "base_uri": "https://localhost:8080/"
        },
        "id": "B3ljBzCASDHp",
        "outputId": "915c950a-f412-488f-91a0-9876de74e35a"
      },
      "execution_count": 72,
      "outputs": [
        {
          "output_type": "stream",
          "name": "stdout",
          "text": [
            "tensor([0.], requires_grad=True)\n"
          ]
        }
      ]
    },
    {
      "cell_type": "code",
      "source": [
        "b = torch.zeros(1, requires_grad=True)\n",
        "print(b)"
      ],
      "metadata": {
        "colab": {
          "base_uri": "https://localhost:8080/"
        },
        "id": "1Pr_P_xQSgEV",
        "outputId": "e4b58d8a-198e-4a27-bfea-f590b301886c"
      },
      "execution_count": 74,
      "outputs": [
        {
          "output_type": "stream",
          "name": "stdout",
          "text": [
            "tensor([0.], requires_grad=True)\n"
          ]
        }
      ]
    },
    {
      "cell_type": "code",
      "source": [
        "hypothesis = x_train * W + b\n",
        "print(hypothesis)"
      ],
      "metadata": {
        "colab": {
          "base_uri": "https://localhost:8080/"
        },
        "id": "xLwvWOx0SEpK",
        "outputId": "7d7c5f3b-f342-43d4-cbaf-8e0888b40595"
      },
      "execution_count": 75,
      "outputs": [
        {
          "output_type": "stream",
          "name": "stdout",
          "text": [
            "tensor([[0.],\n",
            "        [0.],\n",
            "        [0.]], grad_fn=<AddBackward0>)\n"
          ]
        }
      ]
    },
    {
      "cell_type": "code",
      "source": [
        "# 앞서 배운 torch.mean으로 평균을 구한다.\n",
        "cost = torch.mean((hypothesis - y_train) ** 2) # mse\n",
        "print(cost)"
      ],
      "metadata": {
        "colab": {
          "base_uri": "https://localhost:8080/"
        },
        "id": "21dvCmhtSc73",
        "outputId": "52018e27-838d-400e-deb3-523ff7334e9a"
      },
      "execution_count": 76,
      "outputs": [
        {
          "output_type": "stream",
          "name": "stdout",
          "text": [
            "tensor(18.6667, grad_fn=<MeanBackward0>)\n"
          ]
        }
      ]
    },
    {
      "cell_type": "code",
      "source": [
        "optimizer = optim.SGD([W, b], lr=0.01)"
      ],
      "metadata": {
        "id": "jS98wYw6Srgj"
      },
      "execution_count": 77,
      "outputs": []
    },
    {
      "cell_type": "code",
      "source": [
        "# gradient를 0으로 초기화\n",
        "optimizer.zero_grad() \n",
        "# 비용 함수를 미분하여 gradient 계산\n",
        "cost.backward() \n",
        "# W와 b를 업데이트\n",
        "optimizer.step() "
      ],
      "metadata": {
        "id": "ad__MERkSvwh"
      },
      "execution_count": 78,
      "outputs": []
    },
    {
      "cell_type": "markdown",
      "source": [
        "## 전체 코드"
      ],
      "metadata": {
        "id": "0Q4e8yllTHJo"
      }
    },
    {
      "cell_type": "code",
      "source": [
        "# 데이터\n",
        "x_train = torch.FloatTensor([[1], [2], [3]])\n",
        "y_train = torch.FloatTensor([[2], [4], [6]])\n",
        "# 모델 초기화\n",
        "W = torch.zeros(1, requires_grad=True)\n",
        "b = torch.zeros(1, requires_grad=True)\n",
        "# optimizer 설정\n",
        "optimizer = optim.SGD([W, b], lr=0.01)\n",
        "\n",
        "nb_epochs = 1999 # 원하는만큼 경사 하강법을 반복\n",
        "for epoch in range(nb_epochs + 1):\n",
        "\n",
        "    # H(x) 계산\n",
        "    hypothesis = x_train * W + b\n",
        "\n",
        "    # cost 계산\n",
        "    cost = torch.mean((hypothesis - y_train) ** 2)\n",
        "\n",
        "    # cost로 H(x) 개선\n",
        "    optimizer.zero_grad()\n",
        "    cost.backward()\n",
        "    optimizer.step()\n",
        "\n",
        "    # 100번마다 로그 출력\n",
        "    if epoch % 100 == 0:\n",
        "        print('Epoch {:4d}/{} W: {:.3f}, b: {:.3f} Cost: {:.6f}'.format(\n",
        "            epoch, nb_epochs, W.item(), b.item(), cost.item()\n",
        "        ))"
      ],
      "metadata": {
        "colab": {
          "base_uri": "https://localhost:8080/"
        },
        "id": "iPEye2v0S5tW",
        "outputId": "ffd87365-0929-4f3b-d97f-22a8c21e79da"
      },
      "execution_count": 79,
      "outputs": [
        {
          "output_type": "stream",
          "name": "stdout",
          "text": [
            "Epoch    0/1999 W: 0.187, b: 0.080 Cost: 18.666666\n",
            "Epoch  100/1999 W: 1.746, b: 0.578 Cost: 0.048171\n",
            "Epoch  200/1999 W: 1.800, b: 0.454 Cost: 0.029767\n",
            "Epoch  300/1999 W: 1.843, b: 0.357 Cost: 0.018394\n",
            "Epoch  400/1999 W: 1.876, b: 0.281 Cost: 0.011366\n",
            "Epoch  500/1999 W: 1.903, b: 0.221 Cost: 0.007024\n",
            "Epoch  600/1999 W: 1.924, b: 0.174 Cost: 0.004340\n",
            "Epoch  700/1999 W: 1.940, b: 0.136 Cost: 0.002682\n",
            "Epoch  800/1999 W: 1.953, b: 0.107 Cost: 0.001657\n",
            "Epoch  900/1999 W: 1.963, b: 0.084 Cost: 0.001024\n",
            "Epoch 1000/1999 W: 1.971, b: 0.066 Cost: 0.000633\n",
            "Epoch 1100/1999 W: 1.977, b: 0.052 Cost: 0.000391\n",
            "Epoch 1200/1999 W: 1.982, b: 0.041 Cost: 0.000242\n",
            "Epoch 1300/1999 W: 1.986, b: 0.032 Cost: 0.000149\n",
            "Epoch 1400/1999 W: 1.989, b: 0.025 Cost: 0.000092\n",
            "Epoch 1500/1999 W: 1.991, b: 0.020 Cost: 0.000057\n",
            "Epoch 1600/1999 W: 1.993, b: 0.016 Cost: 0.000035\n",
            "Epoch 1700/1999 W: 1.995, b: 0.012 Cost: 0.000022\n",
            "Epoch 1800/1999 W: 1.996, b: 0.010 Cost: 0.000013\n",
            "Epoch 1900/1999 W: 1.997, b: 0.008 Cost: 0.000008\n"
          ]
        }
      ]
    },
    {
      "cell_type": "markdown",
      "source": [
        "## 자동미분(Autograd)"
      ],
      "metadata": {
        "id": "Bwz_zbpUThDQ"
      }
    },
    {
      "cell_type": "code",
      "source": [
        "w = torch.tensor(2.0, requires_grad=True)"
      ],
      "metadata": {
        "id": "CjbrQ7joTLiH"
      },
      "execution_count": 80,
      "outputs": []
    },
    {
      "cell_type": "code",
      "source": [
        "y = w**2\n",
        "z = 2*y + 5"
      ],
      "metadata": {
        "id": "XkXYOYKjTtx0"
      },
      "execution_count": 81,
      "outputs": []
    },
    {
      "cell_type": "code",
      "source": [
        "z.backward()"
      ],
      "metadata": {
        "id": "__NS7yLATujC"
      },
      "execution_count": 82,
      "outputs": []
    },
    {
      "cell_type": "code",
      "source": [
        "print('수식을 w로 미분한 값 : {}'.format(w.grad))"
      ],
      "metadata": {
        "colab": {
          "base_uri": "https://localhost:8080/"
        },
        "id": "aQ1d5DaZTv3d",
        "outputId": "e194f102-3e0f-4e32-af7b-c1da29ad0bd8"
      },
      "execution_count": 83,
      "outputs": [
        {
          "output_type": "stream",
          "name": "stdout",
          "text": [
            "수식을 w로 미분한 값 : 8.0\n"
          ]
        }
      ]
    },
    {
      "cell_type": "markdown",
      "source": [
        "## 다중 선형 회귀(Multiple Linear Regression)"
      ],
      "metadata": {
        "id": "Iz3X7tx2T3B6"
      }
    },
    {
      "cell_type": "code",
      "source": [
        "x_train  =  torch.FloatTensor([[73,  80,  75], \n",
        "                               [93,  88,  93], \n",
        "                               [89,  91,  80], \n",
        "                               [96,  98,  100],   \n",
        "                               [73,  66,  70]])  \n",
        "y_train  =  torch.FloatTensor([[152],  [185],  [180],  [196],  [142]])\n",
        "\n",
        "# 모델 초기화\n",
        "W = torch.zeros((3, 1), requires_grad=True)\n",
        "b = torch.zeros(1, requires_grad=True)\n",
        "# optimizer 설정\n",
        "optimizer = optim.SGD([W, b], lr=1e-5)\n",
        "\n",
        "nb_epochs = 20\n",
        "for epoch in range(nb_epochs + 1):\n",
        "\n",
        "    # H(x) 계산\n",
        "    # 편향 b는 브로드 캐스팅되어 각 샘플에 더해집니다.\n",
        "    hypothesis = x_train.matmul(W) + b\n",
        "\n",
        "    # cost 계산\n",
        "    cost = torch.mean((hypothesis - y_train) ** 2)\n",
        "\n",
        "    # cost로 H(x) 개선\n",
        "    optimizer.zero_grad()\n",
        "    cost.backward()\n",
        "    optimizer.step()\n",
        "\n",
        "    print('Epoch {:4d}/{} hypothesis: {} Cost: {:.6f}'.format(\n",
        "        epoch, nb_epochs, hypothesis.squeeze().detach(), cost.item()\n",
        "    ))"
      ],
      "metadata": {
        "colab": {
          "base_uri": "https://localhost:8080/"
        },
        "id": "f7qpN3lEUOAC",
        "outputId": "67ab5d31-2a61-40cf-ed0c-4dc1c0e29d7e"
      },
      "execution_count": 86,
      "outputs": [
        {
          "output_type": "stream",
          "name": "stdout",
          "text": [
            "Epoch    0/20 hypothesis: tensor([0., 0., 0., 0., 0.]) Cost: 29661.800781\n",
            "Epoch    1/20 hypothesis: tensor([66.7178, 80.1701, 76.1025, 86.0194, 61.1565]) Cost: 9537.694336\n",
            "Epoch    2/20 hypothesis: tensor([104.5421, 125.6208, 119.2478, 134.7861,  95.8280]) Cost: 3069.590820\n",
            "Epoch    3/20 hypothesis: tensor([125.9858, 151.3882, 143.7087, 162.4333, 115.4844]) Cost: 990.670288\n",
            "Epoch    4/20 hypothesis: tensor([138.1429, 165.9963, 157.5768, 178.1071, 126.6283]) Cost: 322.481873\n",
            "Epoch    5/20 hypothesis: tensor([145.0350, 174.2780, 165.4395, 186.9928, 132.9461]) Cost: 107.717064\n",
            "Epoch    6/20 hypothesis: tensor([148.9423, 178.9730, 169.8976, 192.0301, 136.5279]) Cost: 38.687496\n",
            "Epoch    7/20 hypothesis: tensor([151.1574, 181.6346, 172.4254, 194.8856, 138.5585]) Cost: 16.499043\n",
            "Epoch    8/20 hypothesis: tensor([152.4131, 183.1435, 173.8590, 196.5043, 139.7097]) Cost: 9.365656\n",
            "Epoch    9/20 hypothesis: tensor([153.1250, 183.9988, 174.6723, 197.4217, 140.3625]) Cost: 7.071114\n",
            "Epoch   10/20 hypothesis: tensor([153.5285, 184.4835, 175.1338, 197.9415, 140.7325]) Cost: 6.331847\n",
            "Epoch   11/20 hypothesis: tensor([153.7572, 184.7582, 175.3958, 198.2360, 140.9424]) Cost: 6.092532\n",
            "Epoch   12/20 hypothesis: tensor([153.8868, 184.9138, 175.5449, 198.4026, 141.0613]) Cost: 6.013817\n",
            "Epoch   13/20 hypothesis: tensor([153.9602, 185.0019, 175.6299, 198.4969, 141.1288]) Cost: 5.986785\n",
            "Epoch   14/20 hypothesis: tensor([154.0017, 185.0517, 175.6785, 198.5500, 141.1671]) Cost: 5.976325\n",
            "Epoch   15/20 hypothesis: tensor([154.0252, 185.0798, 175.7065, 198.5800, 141.1888]) Cost: 5.971208\n",
            "Epoch   16/20 hypothesis: tensor([154.0385, 185.0956, 175.7229, 198.5966, 141.2012]) Cost: 5.967835\n",
            "Epoch   17/20 hypothesis: tensor([154.0459, 185.1045, 175.7326, 198.6059, 141.2082]) Cost: 5.964969\n",
            "Epoch   18/20 hypothesis: tensor([154.0501, 185.1094, 175.7386, 198.6108, 141.2122]) Cost: 5.962291\n",
            "Epoch   19/20 hypothesis: tensor([154.0524, 185.1120, 175.7424, 198.6134, 141.2145]) Cost: 5.959664\n",
            "Epoch   20/20 hypothesis: tensor([154.0536, 185.1134, 175.7451, 198.6145, 141.2158]) Cost: 5.957089\n"
          ]
        }
      ]
    },
    {
      "cell_type": "markdown",
      "source": [
        "## nn.Module 활용"
      ],
      "metadata": {
        "id": "lRwvjCY1XVR3"
      }
    },
    {
      "cell_type": "code",
      "source": [
        "# 데이터\n",
        "x_train = torch.FloatTensor([[1], [2], [3]])\n",
        "y_train = torch.FloatTensor([[2], [4], [6]])"
      ],
      "metadata": {
        "id": "ZAx_fcQtWJxu"
      },
      "execution_count": 87,
      "outputs": []
    },
    {
      "cell_type": "code",
      "source": [
        "# 모델을 선언 및 초기화. 단순 선형 회귀이므로 input_dim=1, output_dim=1.\n",
        "model = nn.Linear(1,1)"
      ],
      "metadata": {
        "id": "HCNiP5AcYIPu"
      },
      "execution_count": 88,
      "outputs": []
    },
    {
      "cell_type": "code",
      "source": [
        "print(list(model.parameters())) # requires_grad = True로 자동설정됨"
      ],
      "metadata": {
        "colab": {
          "base_uri": "https://localhost:8080/"
        },
        "id": "Eua4EpkYYJt1",
        "outputId": "2cad369c-adf8-4883-e5e8-f4f3e6948364"
      },
      "execution_count": 89,
      "outputs": [
        {
          "output_type": "stream",
          "name": "stdout",
          "text": [
            "[Parameter containing:\n",
            "tensor([[0.5153]], requires_grad=True), Parameter containing:\n",
            "tensor([-0.4414], requires_grad=True)]\n"
          ]
        }
      ]
    },
    {
      "cell_type": "code",
      "source": [
        "# optimizer 설정. 경사 하강법 SGD를 사용하고 learning rate를 의미하는 lr은 0.01\n",
        "optimizer = torch.optim.SGD(model.parameters(), lr=0.01) "
      ],
      "metadata": {
        "id": "-L0-yJQPYMPR"
      },
      "execution_count": 90,
      "outputs": []
    },
    {
      "cell_type": "code",
      "source": [
        "# 전체 훈련 데이터에 대해 경사 하강법을 2,000회 반복\n",
        "nb_epochs = 2000\n",
        "for epoch in range(nb_epochs+1):\n",
        "\n",
        "    # H(x) 계산\n",
        "    prediction = model(x_train)\n",
        "\n",
        "    # cost 계산\n",
        "    cost = F.mse_loss(prediction, y_train) # <== 파이토치에서 제공하는 평균 제곱 오차 함수\n",
        "\n",
        "    # cost로 H(x) 개선하는 부분\n",
        "    # gradient를 0으로 초기화\n",
        "    optimizer.zero_grad()\n",
        "    # 비용 함수를 미분하여 gradient 계산\n",
        "    cost.backward() # backward 연산\n",
        "    # W와 b를 업데이트\n",
        "    optimizer.step()\n",
        "\n",
        "    if epoch % 100 == 0:\n",
        "    # 100번마다 로그 출력\n",
        "      print('Epoch {:4d}/{} Cost: {:.6f}'.format(\n",
        "          epoch, nb_epochs, cost.item()\n",
        "      ))"
      ],
      "metadata": {
        "colab": {
          "base_uri": "https://localhost:8080/"
        },
        "id": "gWPyufIyYU4D",
        "outputId": "e1a39a09-e5f0-4138-b84c-2dff08a481fb"
      },
      "execution_count": 91,
      "outputs": [
        {
          "output_type": "stream",
          "name": "stdout",
          "text": [
            "Epoch    0/2000 Cost: 13.103541\n",
            "Epoch  100/2000 Cost: 0.002791\n",
            "Epoch  200/2000 Cost: 0.001724\n",
            "Epoch  300/2000 Cost: 0.001066\n",
            "Epoch  400/2000 Cost: 0.000658\n",
            "Epoch  500/2000 Cost: 0.000407\n",
            "Epoch  600/2000 Cost: 0.000251\n",
            "Epoch  700/2000 Cost: 0.000155\n",
            "Epoch  800/2000 Cost: 0.000096\n",
            "Epoch  900/2000 Cost: 0.000059\n",
            "Epoch 1000/2000 Cost: 0.000037\n",
            "Epoch 1100/2000 Cost: 0.000023\n",
            "Epoch 1200/2000 Cost: 0.000014\n",
            "Epoch 1300/2000 Cost: 0.000009\n",
            "Epoch 1400/2000 Cost: 0.000005\n",
            "Epoch 1500/2000 Cost: 0.000003\n",
            "Epoch 1600/2000 Cost: 0.000002\n",
            "Epoch 1700/2000 Cost: 0.000001\n",
            "Epoch 1800/2000 Cost: 0.000001\n",
            "Epoch 1900/2000 Cost: 0.000000\n",
            "Epoch 2000/2000 Cost: 0.000000\n"
          ]
        }
      ]
    },
    {
      "cell_type": "markdown",
      "source": [
        "- 입력된 x값으로 부터 y 값을 예측하는 것을 forward 연산이라고 함.\n",
        "  - 학습 과정에서, prediction = model(x_train) : forward 연산\n",
        "  - 학습 후에, pred_y = model(new_var) : forward 연산\n",
        "  - cost.backward() : backward 연산"
      ],
      "metadata": {
        "id": "45VkTRfhYyFk"
      }
    },
    {
      "cell_type": "markdown",
      "source": [
        "### nn.Module, 다중 선형회귀"
      ],
      "metadata": {
        "id": "SARN4Z5QZdEs"
      }
    },
    {
      "cell_type": "code",
      "source": [
        "# 데이터\n",
        "x_train = torch.FloatTensor([[73, 80, 75], # 5x3\n",
        "                             [93, 88, 93],\n",
        "                             [89, 91, 90],\n",
        "                             [96, 98, 100],\n",
        "                             [73, 66, 70]])\n",
        "y_train = torch.FloatTensor([[152], [185], [180], [196], [142]]) # 5x1"
      ],
      "metadata": {
        "id": "viRG3-mpYYoC"
      },
      "execution_count": 93,
      "outputs": []
    },
    {
      "cell_type": "code",
      "source": [
        "# 모델을 선언 및 초기화. 다중 선형 회귀이므로 input_dim=3, output_dim=1.\n",
        "model = nn.Linear(3,1)"
      ],
      "metadata": {
        "id": "-xCADdCLZpYl"
      },
      "execution_count": 94,
      "outputs": []
    },
    {
      "cell_type": "code",
      "source": [
        "print(list(model.parameters()))"
      ],
      "metadata": {
        "colab": {
          "base_uri": "https://localhost:8080/"
        },
        "id": "tn_XU6xrZzSu",
        "outputId": "5fb02f02-8a9d-4642-9b2d-23b6f8bc364b"
      },
      "execution_count": 95,
      "outputs": [
        {
          "output_type": "stream",
          "name": "stdout",
          "text": [
            "[Parameter containing:\n",
            "tensor([[-0.1119,  0.2710, -0.5435]], requires_grad=True), Parameter containing:\n",
            "tensor([0.3462], requires_grad=True)]\n"
          ]
        }
      ]
    },
    {
      "cell_type": "code",
      "source": [
        "optimizer = optim.SGD(model.parameters(), lr = 1e-5)"
      ],
      "metadata": {
        "id": "yIqcFqKzZ1lY"
      },
      "execution_count": 96,
      "outputs": []
    },
    {
      "cell_type": "code",
      "source": [
        "for i in range(2000) : \n",
        "\n",
        "  # H(x) 계산\n",
        "  prediction = model(x_train) # == model.forward(x_train)\n",
        "\n",
        "  # cost\n",
        "  cost = F.mse_loss(prediction, y_train)\n",
        "\n",
        "  #backward\n",
        "  optimizer.zero_grad() # 초기화\n",
        "  cost.backward() # 미분\n",
        "  optimizer.step() # 파라미터 업데이트\n",
        "\n",
        "  if (i+1)%100 == 0 : \n",
        "    # 100번마다 로그 출력\n",
        "    print('Epoch {:4d}/{} Cost: {:.6f}'.format(\n",
        "        i+1, 2000, cost.item()\n",
        "    ))"
      ],
      "metadata": {
        "colab": {
          "base_uri": "https://localhost:8080/"
        },
        "id": "Vro3VBzWaCIx",
        "outputId": "89d453bf-078c-480e-d840-c583d85714e0"
      },
      "execution_count": 97,
      "outputs": [
        {
          "output_type": "stream",
          "name": "stdout",
          "text": [
            "Epoch  100/2000 Cost: 5.963196\n",
            "Epoch  200/2000 Cost: 5.657667\n",
            "Epoch  300/2000 Cost: 5.368217\n",
            "Epoch  400/2000 Cost: 5.094056\n",
            "Epoch  500/2000 Cost: 4.834363\n",
            "Epoch  600/2000 Cost: 4.588363\n",
            "Epoch  700/2000 Cost: 4.355329\n",
            "Epoch  800/2000 Cost: 4.134592\n",
            "Epoch  900/2000 Cost: 3.925489\n",
            "Epoch 1000/2000 Cost: 3.727418\n",
            "Epoch 1100/2000 Cost: 3.539782\n",
            "Epoch 1200/2000 Cost: 3.362067\n",
            "Epoch 1300/2000 Cost: 3.193709\n",
            "Epoch 1400/2000 Cost: 3.034220\n",
            "Epoch 1500/2000 Cost: 2.883162\n",
            "Epoch 1600/2000 Cost: 2.740072\n",
            "Epoch 1700/2000 Cost: 2.604525\n",
            "Epoch 1800/2000 Cost: 2.476128\n",
            "Epoch 1900/2000 Cost: 2.354475\n",
            "Epoch 2000/2000 Cost: 2.239239\n"
          ]
        }
      ]
    },
    {
      "cell_type": "code",
      "source": [
        "# validation\n",
        "\n",
        "# 임의의 입력 [73, 80, 75]를 선언\n",
        "new_var =  torch.FloatTensor([[73, 80, 75]]) \n",
        "# 입력한 값 [73, 80, 75]에 대해서 예측값 y를 리턴받아서 pred_y에 저장\n",
        "pred_y = model(new_var) \n",
        "print(\"훈련 후 입력이 73, 80, 75일 때의 예측값 :\", pred_y) \n",
        "print(list(model.parameters()))"
      ],
      "metadata": {
        "colab": {
          "base_uri": "https://localhost:8080/"
        },
        "id": "mi5XOvyDa9h6",
        "outputId": "a29e8eed-b7d5-4986-b8e6-e68e00f10494"
      },
      "execution_count": 99,
      "outputs": [
        {
          "output_type": "stream",
          "name": "stdout",
          "text": [
            "훈련 후 입력이 73, 80, 75일 때의 예측값 : tensor([[153.7189]], grad_fn=<AddmmBackward0>)\n",
            "[Parameter containing:\n",
            "tensor([[0.8540, 0.8475, 0.3096]], requires_grad=True), Parameter containing:\n",
            "tensor([0.3568], requires_grad=True)]\n"
          ]
        }
      ]
    },
    {
      "cell_type": "markdown",
      "source": [
        "## Class로 Pytorch 모델 구현하기"
      ],
      "metadata": {
        "id": "UiZDhWHebYlm"
      }
    },
    {
      "cell_type": "code",
      "source": [
        "model = nn.Linear(1,1)\n",
        "\n",
        "# 이를 class로 구현하면,\n",
        "\n",
        "class LinearRegressionModel(nn.Module): # nn.Module을 상속받음\n",
        "  def __init__(self) :\n",
        "    super().__init__() # parent Class의 __init__을 그대로 상속받아 사용\n",
        "    self.linear = nn.Linear(1,1)\n",
        "\n",
        "  def forward(self, x) : # 학습 데이터를 받아와 forward 연산을 진행시키는 함수 / model 객체를 생성하면 자동으로 실행됨\n",
        "    return self.linear(x)\n",
        "\n",
        "model = LinearRegressionModel()"
      ],
      "metadata": {
        "id": "NfnVi1sCbPzp"
      },
      "execution_count": 122,
      "outputs": []
    },
    {
      "cell_type": "markdown",
      "source": [
        "### 직접 class를 활용해 구현해보기"
      ],
      "metadata": {
        "id": "7ljZ7hSIcz0L"
      }
    },
    {
      "cell_type": "code",
      "source": [
        "# 데이터\n",
        "x_train = torch.FloatTensor([[1], [2], [3]])\n",
        "y_train = torch.FloatTensor([[2], [4], [6]])"
      ],
      "metadata": {
        "id": "gBDUZRFDceL7"
      },
      "execution_count": 108,
      "outputs": []
    },
    {
      "cell_type": "code",
      "source": [
        "class LinearRegressionModel(nn.Module): # nn.Module을 상속받음\n",
        "  def __init__(self) :\n",
        "    super().__init__() # parent Class의 __init__을 그대로 상속받아 사용\n",
        "    self.linear = nn.Linear(1,1)\n",
        "\n",
        "  def forward(self, x) : # 학습 데이터를 받아와 forward 연산을 진행시키는 함수 / model 객체를 생성하면 자동으로 실행됨\n",
        "    return self.linear(x)"
      ],
      "metadata": {
        "id": "ZsMHBaUtc220"
      },
      "execution_count": 119,
      "outputs": []
    },
    {
      "cell_type": "code",
      "source": [
        "model = LinearRegressionModel()\n",
        "optimizer = optim.SGD(model.parameters(), lr = 1e-2)"
      ],
      "metadata": {
        "id": "XgkXzCSWc_Av"
      },
      "execution_count": 120,
      "outputs": []
    },
    {
      "cell_type": "code",
      "source": [
        "num_epochs = 2000\n",
        "for epoch in range(num_epochs+1) :\n",
        "\n",
        "  prediction = model(x_train)\n",
        "\n",
        "  cost = F.mse_loss(prediction, y_train)\n",
        "\n",
        "  optimizer.zero_grad()\n",
        "  cost.backward()\n",
        "  optimizer.step()\n",
        "\n",
        "  if epoch % 100 == 0:\n",
        "    # 100번마다 로그 출력\n",
        "      print('Epoch {:4d}/{} Cost: {:.6f}'.format(\n",
        "          epoch, nb_epochs, cost.item()\n",
        "      ))\n"
      ],
      "metadata": {
        "colab": {
          "base_uri": "https://localhost:8080/"
        },
        "id": "9VZMHKLtdSbq",
        "outputId": "5001d881-597f-449b-837b-ddeafb0ff518"
      },
      "execution_count": 121,
      "outputs": [
        {
          "output_type": "stream",
          "name": "stdout",
          "text": [
            "Epoch    0/2000 Cost: 24.685446\n",
            "Epoch  100/2000 Cost: 0.071069\n",
            "Epoch  200/2000 Cost: 0.043916\n",
            "Epoch  300/2000 Cost: 0.027138\n",
            "Epoch  400/2000 Cost: 0.016769\n",
            "Epoch  500/2000 Cost: 0.010362\n",
            "Epoch  600/2000 Cost: 0.006403\n",
            "Epoch  700/2000 Cost: 0.003957\n",
            "Epoch  800/2000 Cost: 0.002445\n",
            "Epoch  900/2000 Cost: 0.001511\n",
            "Epoch 1000/2000 Cost: 0.000934\n",
            "Epoch 1100/2000 Cost: 0.000577\n",
            "Epoch 1200/2000 Cost: 0.000357\n",
            "Epoch 1300/2000 Cost: 0.000220\n",
            "Epoch 1400/2000 Cost: 0.000136\n",
            "Epoch 1500/2000 Cost: 0.000084\n",
            "Epoch 1600/2000 Cost: 0.000052\n",
            "Epoch 1700/2000 Cost: 0.000032\n",
            "Epoch 1800/2000 Cost: 0.000020\n",
            "Epoch 1900/2000 Cost: 0.000012\n",
            "Epoch 2000/2000 Cost: 0.000008\n"
          ]
        }
      ]
    },
    {
      "cell_type": "markdown",
      "source": [
        "## 미니배치와 데이터 로드(Mini Batch and Data Load)"
      ],
      "metadata": {
        "id": "kJyfJTCCgHwl"
      }
    },
    {
      "cell_type": "code",
      "source": [
        "from torch.utils.data import Dataset, TensorDataset,DataLoader"
      ],
      "metadata": {
        "id": "xC4ajl97dv23"
      },
      "execution_count": 123,
      "outputs": []
    },
    {
      "cell_type": "code",
      "source": [
        "x_train  =  torch.FloatTensor([[73,  80,  75], \n",
        "                               [93,  88,  93], \n",
        "                               [89,  91,  90], \n",
        "                               [96,  98,  100],   \n",
        "                               [73,  66,  70]])  \n",
        "y_train  =  torch.FloatTensor([[152],  [185],  [180],  [196],  [142]])"
      ],
      "metadata": {
        "id": "B85Y-gF9g_uu"
      },
      "execution_count": 124,
      "outputs": []
    },
    {
      "cell_type": "code",
      "source": [
        "dataset = TensorDataset(x_train, y_train)"
      ],
      "metadata": {
        "id": "aUI90AqUhB5u"
      },
      "execution_count": 125,
      "outputs": []
    },
    {
      "cell_type": "code",
      "source": [
        "dataloader = DataLoader(dataset, batch_size=2, shuffle=True)\n",
        "# shuffle = True : epoch마다 batch의 순서를 바꿔서 학습"
      ],
      "metadata": {
        "id": "z6Nx8H9vhEmG"
      },
      "execution_count": 128,
      "outputs": []
    },
    {
      "cell_type": "code",
      "source": [
        "model = nn.Linear(3,1)\n",
        "optimizer = torch.optim.SGD(model.parameters(), lr=1e-5) "
      ],
      "metadata": {
        "id": "I7ZdncxFhP6G"
      },
      "execution_count": 129,
      "outputs": []
    },
    {
      "cell_type": "code",
      "source": [
        "num_epochs = 20\n",
        "for epoch in range(num_epochs+1) : \n",
        "  for batch_idx, samples in enumerate(dataloader) : \n",
        "    x_train, y_train = samples\n",
        "\n",
        "    #forward\n",
        "    prediction = model(x_train)\n",
        "\n",
        "    #cost\n",
        "    cost = F.mse_loss(prediction, y_train)\n",
        "\n",
        "    #backward\n",
        "    optimizer.zero_grad()\n",
        "    cost.backward()\n",
        "    optimizer.step()\n",
        "\n",
        "    #print\n",
        "    print('Epoch {:4d}/{} Batch {}/{} Cost: {:.6f}'.format(\n",
        "        epoch, num_epochs, batch_idx+1, len(dataloader),\n",
        "        cost.item()\n",
        "        ))"
      ],
      "metadata": {
        "colab": {
          "base_uri": "https://localhost:8080/"
        },
        "id": "592P1flehhZP",
        "outputId": "6526cb3d-eb94-491f-e6c4-9322a08ea44d"
      },
      "execution_count": 130,
      "outputs": [
        {
          "output_type": "stream",
          "name": "stdout",
          "text": [
            "Epoch    0/20 Batch 1/3 Cost: 6111.545898\n",
            "Epoch    0/20 Batch 2/3 Cost: 2102.446045\n",
            "Epoch    0/20 Batch 3/3 Cost: 653.481995\n",
            "Epoch    1/20 Batch 1/3 Cost: 207.813858\n",
            "Epoch    1/20 Batch 2/3 Cost: 75.565811\n",
            "Epoch    1/20 Batch 3/3 Cost: 1.367718\n",
            "Epoch    2/20 Batch 1/3 Cost: 18.087572\n",
            "Epoch    2/20 Batch 2/3 Cost: 0.384828\n",
            "Epoch    2/20 Batch 3/3 Cost: 20.991934\n",
            "Epoch    3/20 Batch 1/3 Cost: 3.663338\n",
            "Epoch    3/20 Batch 2/3 Cost: 6.350983\n",
            "Epoch    3/20 Batch 3/3 Cost: 5.858238\n",
            "Epoch    4/20 Batch 1/3 Cost: 4.272526\n",
            "Epoch    4/20 Batch 2/3 Cost: 6.911891\n",
            "Epoch    4/20 Batch 3/3 Cost: 4.882916\n",
            "Epoch    5/20 Batch 1/3 Cost: 1.244126\n",
            "Epoch    5/20 Batch 2/3 Cost: 9.133160\n",
            "Epoch    5/20 Batch 3/3 Cost: 7.230614\n",
            "Epoch    6/20 Batch 1/3 Cost: 6.731429\n",
            "Epoch    6/20 Batch 2/3 Cost: 3.294933\n",
            "Epoch    6/20 Batch 3/3 Cost: 6.469173\n",
            "Epoch    7/20 Batch 1/3 Cost: 7.275612\n",
            "Epoch    7/20 Batch 2/3 Cost: 3.370646\n",
            "Epoch    7/20 Batch 3/3 Cost: 9.402941\n",
            "Epoch    8/20 Batch 1/3 Cost: 3.832781\n",
            "Epoch    8/20 Batch 2/3 Cost: 4.608465\n",
            "Epoch    8/20 Batch 3/3 Cost: 13.845108\n",
            "Epoch    9/20 Batch 1/3 Cost: 4.812168\n",
            "Epoch    9/20 Batch 2/3 Cost: 4.615551\n",
            "Epoch    9/20 Batch 3/3 Cost: 13.532465\n",
            "Epoch   10/20 Batch 1/3 Cost: 4.148853\n",
            "Epoch   10/20 Batch 2/3 Cost: 6.062147\n",
            "Epoch   10/20 Batch 3/3 Cost: 6.703577\n",
            "Epoch   11/20 Batch 1/3 Cost: 1.876444\n",
            "Epoch   11/20 Batch 2/3 Cost: 13.627543\n",
            "Epoch   11/20 Batch 3/3 Cost: 4.770681\n",
            "Epoch   12/20 Batch 1/3 Cost: 7.583533\n",
            "Epoch   12/20 Batch 2/3 Cost: 2.663385\n",
            "Epoch   12/20 Batch 3/3 Cost: 9.272107\n",
            "Epoch   13/20 Batch 1/3 Cost: 4.576822\n",
            "Epoch   13/20 Batch 2/3 Cost: 6.050699\n",
            "Epoch   13/20 Batch 3/3 Cost: 4.963970\n",
            "Epoch   14/20 Batch 1/3 Cost: 7.402810\n",
            "Epoch   14/20 Batch 2/3 Cost: 3.691673\n",
            "Epoch   14/20 Batch 3/3 Cost: 4.526007\n",
            "Epoch   15/20 Batch 1/3 Cost: 1.228962\n",
            "Epoch   15/20 Batch 2/3 Cost: 15.198352\n",
            "Epoch   15/20 Batch 3/3 Cost: 3.174320\n",
            "Epoch   16/20 Batch 1/3 Cost: 4.115488\n",
            "Epoch   16/20 Batch 2/3 Cost: 2.767771\n",
            "Epoch   16/20 Batch 3/3 Cost: 15.464397\n",
            "Epoch   17/20 Batch 1/3 Cost: 6.070621\n",
            "Epoch   17/20 Batch 2/3 Cost: 3.971359\n",
            "Epoch   17/20 Batch 3/3 Cost: 11.099178\n",
            "Epoch   18/20 Batch 1/3 Cost: 8.917984\n",
            "Epoch   18/20 Batch 2/3 Cost: 6.634784\n",
            "Epoch   18/20 Batch 3/3 Cost: 4.023472\n",
            "Epoch   19/20 Batch 1/3 Cost: 7.277434\n",
            "Epoch   19/20 Batch 2/3 Cost: 7.715863\n",
            "Epoch   19/20 Batch 3/3 Cost: 4.490434\n",
            "Epoch   20/20 Batch 1/3 Cost: 8.282043\n",
            "Epoch   20/20 Batch 2/3 Cost: 8.990211\n",
            "Epoch   20/20 Batch 3/3 Cost: 5.710201\n"
          ]
        }
      ]
    },
    {
      "cell_type": "code",
      "source": [
        "# valdation\n",
        "\n",
        "# 임의의 입력 [73, 80, 75]를 선언\n",
        "new_var =  torch.FloatTensor([[73, 80, 75]]) \n",
        "# 입력한 값 [73, 80, 75]에 대해서 예측값 y를 리턴받아서 pred_y에 저장\n",
        "pred_y = model(new_var) \n",
        "print(\"훈련 후 입력이 73, 80, 75일 때의 예측값 :\", pred_y) "
      ],
      "metadata": {
        "colab": {
          "base_uri": "https://localhost:8080/"
        },
        "id": "riE1357ZiB52",
        "outputId": "23d90b7e-cb0b-412b-9d96-5d554721f7d5"
      },
      "execution_count": 131,
      "outputs": [
        {
          "output_type": "stream",
          "name": "stdout",
          "text": [
            "훈련 후 입력이 73, 80, 75일 때의 예측값 : tensor([[153.9086]], grad_fn=<AddmmBackward0>)\n"
          ]
        }
      ]
    },
    {
      "cell_type": "markdown",
      "source": [
        "## Custom Dataset"
      ],
      "metadata": {
        "id": "iUC5cqHriQ7s"
      }
    },
    {
      "cell_type": "markdown",
      "source": [
        "```\n",
        "# 코드로 형식 지정됨\n",
        "class CustomDataset(torch.utils.data.Dataset): \n",
        "  def __init__(self):\n",
        "  데이터셋의 전처리를 해주는 부분\n",
        "\n",
        "  def __len__(self):\n",
        "  데이터셋의 길이. 즉, 총 샘플의 수를 적어주는 부분\n",
        "\n",
        "  def __getitem__(self, idx): \n",
        "  데이터셋에서 특정 1개의 샘플을 가져오는 함수\n",
        "```"
      ],
      "metadata": {
        "id": "6PQNkGJ2ibKu"
      }
    },
    {
      "cell_type": "code",
      "source": [
        "# Dataset 상속\n",
        "class CustomDataset(Dataset): \n",
        "  def __init__(self):\n",
        "    self.x_data = [[73, 80, 75],\n",
        "                   [93, 88, 93],\n",
        "                   [89, 91, 90],\n",
        "                   [96, 98, 100],\n",
        "                   [73, 66, 70]]\n",
        "    self.y_data = [[152], [185], [180], [196], [142]]\n",
        "\n",
        "  # 총 데이터의 개수를 리턴\n",
        "  def __len__(self): \n",
        "    return len(self.x_data)\n",
        "\n",
        "  # 인덱스를 입력받아 그에 맵핑되는 입출력 데이터를 파이토치의 Tensor 형태로 리턴\n",
        "  def __getitem__(self, idx): \n",
        "    x = torch.FloatTensor(self.x_data[idx])\n",
        "    y = torch.FloatTensor(self.y_data[idx])\n",
        "    return x, y"
      ],
      "metadata": {
        "id": "85DvbG6XiNwD"
      },
      "execution_count": 132,
      "outputs": []
    },
    {
      "cell_type": "code",
      "source": [
        "dataset = CustomDataset()\n",
        "dataloader = DataLoader(dataset, batch_size = 2, shuffle = True)"
      ],
      "metadata": {
        "id": "7QErbN4Di4O5"
      },
      "execution_count": 134,
      "outputs": []
    },
    {
      "cell_type": "code",
      "source": [
        "model = nn.Linear(3,1)\n",
        "optimizer = optim.SGD(model.parameters(), lr = 1e-5)"
      ],
      "metadata": {
        "id": "599sgF2bi63N"
      },
      "execution_count": 135,
      "outputs": []
    },
    {
      "cell_type": "code",
      "source": [
        "nb_epochs = 20\n",
        "for epoch in range(nb_epochs + 1):\n",
        "  for batch_idx, samples in enumerate(dataloader):\n",
        "    # print(batch_idx)\n",
        "    # print(samples)\n",
        "    x_train, y_train = samples\n",
        "    # H(x) 계산\n",
        "    prediction = model(x_train)\n",
        "\n",
        "    # cost 계산\n",
        "    cost = F.mse_loss(prediction, y_train)\n",
        "\n",
        "    # cost로 H(x) 계산\n",
        "    optimizer.zero_grad()\n",
        "    cost.backward()\n",
        "    optimizer.step()\n",
        "\n",
        "    print('Epoch {:4d}/{} Batch {}/{} Cost: {:.6f}'.format(\n",
        "        epoch, nb_epochs, batch_idx+1, len(dataloader),\n",
        "        cost.item()\n",
        "        ))"
      ],
      "metadata": {
        "colab": {
          "base_uri": "https://localhost:8080/"
        },
        "id": "Y2lp-UEijHVi",
        "outputId": "a4f4fbad-379e-4a9d-a642-b09e8f37a334"
      },
      "execution_count": 136,
      "outputs": [
        {
          "output_type": "stream",
          "name": "stdout",
          "text": [
            "Epoch    0/20 Batch 1/3 Cost: 54410.015625\n",
            "Epoch    0/20 Batch 2/3 Cost: 42343.062500\n",
            "Epoch    0/20 Batch 3/3 Cost: 7972.339355\n",
            "Epoch    1/20 Batch 1/3 Cost: 2242.608398\n",
            "Epoch    1/20 Batch 2/3 Cost: 506.081055\n",
            "Epoch    1/20 Batch 3/3 Cost: 111.205994\n",
            "Epoch    2/20 Batch 1/3 Cost: 56.320976\n",
            "Epoch    2/20 Batch 2/3 Cost: 31.966087\n",
            "Epoch    2/20 Batch 3/3 Cost: 19.768400\n",
            "Epoch    3/20 Batch 1/3 Cost: 5.929278\n",
            "Epoch    3/20 Batch 2/3 Cost: 1.125062\n",
            "Epoch    3/20 Batch 3/3 Cost: 0.277834\n",
            "Epoch    4/20 Batch 1/3 Cost: 0.135496\n",
            "Epoch    4/20 Batch 2/3 Cost: 5.490174\n",
            "Epoch    4/20 Batch 3/3 Cost: 0.725913\n",
            "Epoch    5/20 Batch 1/3 Cost: 2.366127\n",
            "Epoch    5/20 Batch 2/3 Cost: 1.465055\n",
            "Epoch    5/20 Batch 3/3 Cost: 0.524815\n",
            "Epoch    6/20 Batch 1/3 Cost: 2.606981\n",
            "Epoch    6/20 Batch 2/3 Cost: 1.272943\n",
            "Epoch    6/20 Batch 3/3 Cost: 0.544203\n",
            "Epoch    7/20 Batch 1/3 Cost: 0.486204\n",
            "Epoch    7/20 Batch 2/3 Cost: 2.843505\n",
            "Epoch    7/20 Batch 3/3 Cost: 2.238799\n",
            "Epoch    8/20 Batch 1/3 Cost: 2.475793\n",
            "Epoch    8/20 Batch 2/3 Cost: 2.364870\n",
            "Epoch    8/20 Batch 3/3 Cost: 1.555413\n",
            "Epoch    9/20 Batch 1/3 Cost: 2.197891\n",
            "Epoch    9/20 Batch 2/3 Cost: 0.923457\n",
            "Epoch    9/20 Batch 3/3 Cost: 2.751510\n",
            "Epoch   10/20 Batch 1/3 Cost: 1.539157\n",
            "Epoch   10/20 Batch 2/3 Cost: 2.165064\n",
            "Epoch   10/20 Batch 3/3 Cost: 1.671492\n",
            "Epoch   11/20 Batch 1/3 Cost: 2.733687\n",
            "Epoch   11/20 Batch 2/3 Cost: 1.490403\n",
            "Epoch   11/20 Batch 3/3 Cost: 0.720903\n",
            "Epoch   12/20 Batch 1/3 Cost: 4.106330\n",
            "Epoch   12/20 Batch 2/3 Cost: 1.356593\n",
            "Epoch   12/20 Batch 3/3 Cost: 0.979537\n",
            "Epoch   13/20 Batch 1/3 Cost: 3.003527\n",
            "Epoch   13/20 Batch 2/3 Cost: 1.355621\n",
            "Epoch   13/20 Batch 3/3 Cost: 0.802262\n",
            "Epoch   14/20 Batch 1/3 Cost: 2.739705\n",
            "Epoch   14/20 Batch 2/3 Cost: 1.329857\n",
            "Epoch   14/20 Batch 3/3 Cost: 0.466967\n",
            "Epoch   15/20 Batch 1/3 Cost: 0.291297\n",
            "Epoch   15/20 Batch 2/3 Cost: 1.787178\n",
            "Epoch   15/20 Batch 3/3 Cost: 4.329963\n",
            "Epoch   16/20 Batch 1/3 Cost: 1.337245\n",
            "Epoch   16/20 Batch 2/3 Cost: 3.658340\n",
            "Epoch   16/20 Batch 3/3 Cost: 1.007675\n",
            "Epoch   17/20 Batch 1/3 Cost: 1.514228\n",
            "Epoch   17/20 Batch 2/3 Cost: 0.700409\n",
            "Epoch   17/20 Batch 3/3 Cost: 5.215804\n",
            "Epoch   18/20 Batch 1/3 Cost: 1.971424\n",
            "Epoch   18/20 Batch 2/3 Cost: 1.390055\n",
            "Epoch   18/20 Batch 3/3 Cost: 3.688034\n",
            "Epoch   19/20 Batch 1/3 Cost: 1.942373\n",
            "Epoch   19/20 Batch 2/3 Cost: 1.224873\n",
            "Epoch   19/20 Batch 3/3 Cost: 4.097820\n",
            "Epoch   20/20 Batch 1/3 Cost: 2.617302\n",
            "Epoch   20/20 Batch 2/3 Cost: 1.214294\n",
            "Epoch   20/20 Batch 3/3 Cost: 0.857071\n"
          ]
        }
      ]
    },
    {
      "cell_type": "code",
      "source": [
        "# 임의의 입력 [73, 80, 75]를 선언\n",
        "new_var =  torch.FloatTensor([[73, 80, 75]]) \n",
        "# 입력한 값 [73, 80, 75]에 대해서 예측값 y를 리턴받아서 pred_y에 저장\n",
        "pred_y = model(new_var) \n",
        "print(\"훈련 후 입력이 73, 80, 75일 때의 예측값 :\", pred_y) "
      ],
      "metadata": {
        "colab": {
          "base_uri": "https://localhost:8080/"
        },
        "id": "9HGoogc1jK7E",
        "outputId": "391e4d42-0c45-4c6a-9d1a-af1e48ffad2b"
      },
      "execution_count": 137,
      "outputs": [
        {
          "output_type": "stream",
          "name": "stdout",
          "text": [
            "훈련 후 입력이 73, 80, 75일 때의 예측값 : tensor([[152.6044]], grad_fn=<AddmmBackward0>)\n"
          ]
        }
      ]
    },
    {
      "cell_type": "code",
      "source": [],
      "metadata": {
        "id": "SXyMTwVNjM-A"
      },
      "execution_count": null,
      "outputs": []
    }
  ]
}